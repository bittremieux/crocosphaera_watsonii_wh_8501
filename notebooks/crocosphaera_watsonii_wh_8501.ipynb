{
 "cells": [
  {
   "cell_type": "code",
   "execution_count": null,
   "metadata": {},
   "outputs": [],
   "source": [
    "import locale\n",
    "\n",
    "import matplotlib.pyplot as plt\n",
    "import numpy as np\n",
    "import pandas as pd\n",
    "import seaborn as sns\n",
    "from scipy.cluster.hierarchy import dendrogram\n",
    "from sklearn import cluster, metrics, preprocessing"
   ]
  },
  {
   "cell_type": "code",
   "execution_count": null,
   "metadata": {},
   "outputs": [],
   "source": [
    "locale.setlocale(locale.LC_ALL, \"en_US.UTF-8\")\n",
    "# Plot styling.\n",
    "plt.style.use(['seaborn-white', 'seaborn-paper'])\n",
    "plt.rc('font', family='serif')\n",
    "sns.set_palette(['#9e0059', '#6da7de', '#ee266d', '#dee000', '#eb861e', '#63c5b5'])\n",
    "sns.set_context('paper', font_scale=1.3)    # Single-column figure."
   ]
  },
  {
   "cell_type": "markdown",
   "metadata": {},
   "source": [
    "### Convert gene names to UniProt ids"
   ]
  },
  {
   "cell_type": "code",
   "execution_count": null,
   "metadata": {},
   "outputs": [],
   "source": [
    "gene_names = set()\n",
    "with open(\"../data/external/crocosphaera_watsonii_wh_8501_200811.fasta\") as f_in:\n",
    "    for line in f_in:\n",
    "        if line.startswith(\">\"):\n",
    "            gene_names.add(line.split()[2])\n",
    "\n",
    "gene_to_uniprot = pd.read_csv(\n",
    "    \"../data/external/crocosphaera_watsonii_wh_8501_uniprot_20210912.tab\",\n",
    "    sep=\"\\t\", usecols=[\"Entry\", \"Gene names\"])\n",
    "gene_to_uniprot[\"Gene names\"] = gene_to_uniprot[\"Gene names\"].str.split()\n",
    "gene_to_uniprot = (gene_to_uniprot.explode(\"Gene names\")\n",
    "                   .set_index(\"Gene names\")\n",
    "                   .squeeze()\n",
    "                   .to_dict())\n",
    "(pd.Series(gene_to_uniprot.values()).drop_duplicates()\n",
    " .to_csv(\"../data/interim/crocosphaera_watsonii_wh_8501_population.txt\",\n",
    "         index=False, header=False))"
   ]
  },
  {
   "cell_type": "markdown",
   "metadata": {},
   "source": [
    "### Time series preprocessing"
   ]
  },
  {
   "cell_type": "code",
   "execution_count": null,
   "metadata": {},
   "outputs": [],
   "source": [
    "quickgo_annotations = pd.read_csv(\n",
    "    \"../data/external/crocosphaera_watsonii_wh_8501_quickgo.tsv\", sep=\"\\t\",\n",
    "    usecols=[\"GENE PRODUCT ID\", \"GO TERM\"])\n",
    "quickgo_annotations = (quickgo_annotations.groupby(\"GENE PRODUCT ID\")\n",
    "                       [\"GO TERM\"].apply(lambda x: \";\".join(x)))\n",
    "quickgo_annotations.to_csv(\n",
    "    \"../data/interim/crocosphaera_watsonii_wh_8501_go_map.tsv\", sep=\"\\t\",\n",
    "    header=None)"
   ]
  },
  {
   "cell_type": "code",
   "execution_count": null,
   "metadata": {},
   "outputs": [],
   "source": [
    "data_columns = [f\"151222_WH8501diel_T{t}_2ug\" for t in range(1, 17)]\n",
    "data = pd.read_csv(\n",
    "    \"../data/processed/160214_Crocodiel_Full_rawdata_noheader_fig_may7annotation.csv\",\n",
    "    usecols=[\"Identified Proteins (1170)\", \"Molecular Weight\", *data_columns])\n",
    "for col in data_columns:\n",
    "    data[col] = data[col].apply(locale.atof)\n",
    "data[\"uniprot_id\"] = (data[\"Identified Proteins (1170)\"].str.split().str[1]\n",
    "                      .map(gene_to_uniprot))\n",
    "data = (data[data[\"Molecular Weight\"] != \"?\"]\n",
    "        .drop(columns=[\"Identified Proteins (1170)\", \"Molecular Weight\"])\n",
    "        .sort_values(\"uniprot_id\")\n",
    "        .set_index(\"uniprot_id\")\n",
    "        .drop_duplicates())"
   ]
  },
  {
   "cell_type": "code",
   "execution_count": null,
   "metadata": {},
   "outputs": [],
   "source": [
    "data_standardized = (preprocessing.StandardScaler()\n",
    "                     .fit_transform(data[data_columns].T).T)"
   ]
  },
  {
   "cell_type": "code",
   "execution_count": null,
   "metadata": {},
   "outputs": [],
   "source": [
    "pairwise_timepoints = metrics.pairwise_distances(\n",
    "    data_standardized.T, n_jobs=-1)"
   ]
  },
  {
   "cell_type": "code",
   "execution_count": null,
   "metadata": {},
   "outputs": [],
   "source": [
    "width = 7\n",
    "height = width / 1.618\n",
    "fig, ax = plt.subplots(figsize=(width, height))\n",
    "\n",
    "sns.heatmap(pairwise_timepoints, square=True, ax=ax)\n",
    "\n",
    "ax.set_xlabel('Timepoint')\n",
    "ax.set_ylabel('Timepoint')\n",
    "\n",
    "plt.savefig(\"pairwise_timepoints.png\", dpi=300, bbox_inches=\"tight\")\n",
    "plt.show()\n",
    "plt.close()"
   ]
  },
  {
   "cell_type": "markdown",
   "metadata": {},
   "source": [
    "### Time series clustering"
   ]
  },
  {
   "cell_type": "code",
   "execution_count": null,
   "metadata": {},
   "outputs": [],
   "source": [
    "n_clusters = 6\n",
    "clusterer = cluster.AgglomerativeClustering(\n",
    "    n_clusters=n_clusters, compute_distances=True)"
   ]
  },
  {
   "cell_type": "code",
   "execution_count": null,
   "metadata": {},
   "outputs": [],
   "source": [
    "cluster_labels = clusterer.fit_predict(data_standardized)"
   ]
  },
  {
   "cell_type": "code",
   "execution_count": null,
   "metadata": {},
   "outputs": [],
   "source": [
    "width = 7\n",
    "height = width / 1.618\n",
    "n_row = 2\n",
    "n_col = n_clusters // n_row\n",
    "fig, axes = plt.subplots(n_row, n_col, sharex=True, sharey=True,\n",
    "                         figsize=(width * n_col, height * n_row))\n",
    "\n",
    "for i, ax in enumerate(axes.ravel()):\n",
    "    cluster_timepoints = data_standardized[cluster_labels == i].T\n",
    "    ax.plot(cluster_timepoints, alpha=0.1, color=\"black\")\n",
    "    ax.plot(np.median(cluster_timepoints, axis=1), c=\"#9e0059\", lw=5)\n",
    "\n",
    "    # Highlight night period.\n",
    "    ax.axvspan(4, 11, color=\"lightgray\")\n",
    "    \n",
    "    ax.set_title(f\"Cluster {i}\")\n",
    "    \n",
    "    sns.despine(ax=ax)\n",
    "\n",
    "for ax in axes[-1]:\n",
    "    ax.set_xlabel(\"Timepoint\")\n",
    "for ax in axes[:, 0]:\n",
    "    ax.set_ylabel(\"Standardized abundance\")\n",
    "\n",
    "plt.tight_layout()\n",
    "    \n",
    "plt.savefig(\"clusters.png\", dpi=300, bbox_inches=\"tight\")\n",
    "plt.show()\n",
    "plt.close()"
   ]
  },
  {
   "cell_type": "code",
   "execution_count": null,
   "metadata": {},
   "outputs": [],
   "source": [
    "width = 7\n",
    "height = width / 1.618\n",
    "fig, ax = plt.subplots(figsize=(width, height))\n",
    "\n",
    "counts = np.zeros(clusterer.children_.shape[0])\n",
    "n_samples = len(clusterer.labels_)\n",
    "for i, merge in enumerate(clusterer.children_):\n",
    "    current_count = 0\n",
    "    for child_idx in merge:\n",
    "        if child_idx < n_samples:\n",
    "            current_count += 1\n",
    "        else:\n",
    "            current_count += counts[child_idx - n_samples]\n",
    "    counts[i] = current_count\n",
    "linkage = np.column_stack(\n",
    "    [clusterer.children_, clusterer.distances_, counts]).astype(float)\n",
    "\n",
    "plot_labels = -np.ones(2 * n_samples - 1, np.int8)\n",
    "plot_labels[:n_samples] = cluster_labels\n",
    "for parent_i, child_i in enumerate(clusterer.children_[:, 0], n_samples):\n",
    "    plot_labels[parent_i] = plot_labels[child_i]\n",
    "\n",
    "dendrogram(linkage, p=4, truncate_mode=\"level\", color_threshold=30,\n",
    "           distance_sort=True, show_leaf_counts=False, leaf_rotation=0,\n",
    "           leaf_label_func=lambda i: plot_labels[i],\n",
    "           ax=ax, above_threshold_color=\"black\")\n",
    "\n",
    "ax.set_xlabel(\"Cluster label\")\n",
    "ax.set_ylabel(\"Euclidean distance\")\n",
    "\n",
    "sns.despine()\n",
    "\n",
    "plt.savefig(\"dendrogram.png\", dpi=300, bbox_inches=\"tight\")\n",
    "plt.show()\n",
    "plt.close()"
   ]
  },
  {
   "cell_type": "markdown",
   "metadata": {},
   "source": [
    "### GO enrichment"
   ]
  },
  {
   "cell_type": "code",
   "execution_count": null,
   "metadata": {},
   "outputs": [],
   "source": [
    "for i in range(n_clusters):\n",
    "    (data.iloc[cluster_labels == i].index.to_series()\n",
    "     .to_csv(f\"../data/interim/crocosphaera_watsonii_wh_8501_cluster{i}.txt\",\n",
    "             index=False, header=False))\n",
    "    ! python find_enrichment.py \\\n",
    "        ../data/interim/crocosphaera_watsonii_wh_8501_cluster{i}.txt \\\n",
    "        ../data/interim/crocosphaera_watsonii_wh_8501_population.txt \\\n",
    "        ../data/interim/crocosphaera_watsonii_wh_8501_go_map.tsv \\\n",
    "        --pval=0.05 \\\n",
    "        --method=fdr_bh \\\n",
    "        --pval_field=fdr_bh \\\n",
    "        --outfile=../data/processed/crocosphaera_watsonii_wh_8501_go{i}.csv"
   ]
  }
 ],
 "metadata": {
  "kernelspec": {
   "display_name": "Python 3",
   "language": "python",
   "name": "python3"
  },
  "language_info": {
   "codemirror_mode": {
    "name": "ipython",
    "version": 3
   },
   "file_extension": ".py",
   "mimetype": "text/x-python",
   "name": "python",
   "nbconvert_exporter": "python",
   "pygments_lexer": "ipython3",
   "version": "3.8.2"
  }
 },
 "nbformat": 4,
 "nbformat_minor": 4
}
